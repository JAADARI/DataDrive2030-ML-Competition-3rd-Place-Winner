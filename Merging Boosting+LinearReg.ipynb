{
 "cells": [
  {
   "cell_type": "code",
   "execution_count": 1,
   "id": "3b285223",
   "metadata": {},
   "outputs": [],
   "source": [
    "import pandas as pd\n",
    "import numpy as np\n"
   ]
  },
  {
   "cell_type": "code",
   "execution_count": 58,
   "id": "ec4b4053",
   "metadata": {},
   "outputs": [],
   "source": [
    "s1 = pd.read_csv('/home/fjaadari/Desktop/CEPM_QS/finalp37 (1).csv')\n",
    "s2= pd.read_csv('/home/fjaadari/Desktop/CEPM_QS/finalp46.csv')\n"
   ]
  },
  {
   "cell_type": "code",
   "execution_count": 60,
   "id": "b722fc80",
   "metadata": {},
   "outputs": [],
   "source": [
    "s1[\"target\"]=s1[\"target\"]*0.8+s2[\"target\"]*0.2"
   ]
  },
  {
   "cell_type": "code",
   "execution_count": 61,
   "id": "d606a440",
   "metadata": {},
   "outputs": [],
   "source": [
    "s1.to_csv('FinalScore.csv', index = False)\n"
   ]
  }
 ],
 "metadata": {
  "kernelspec": {
   "display_name": "Python 3 (ipykernel)",
   "language": "python",
   "name": "python3"
  },
  "language_info": {
   "codemirror_mode": {
    "name": "ipython",
    "version": 3
   },
   "file_extension": ".py",
   "mimetype": "text/x-python",
   "name": "python",
   "nbconvert_exporter": "python",
   "pygments_lexer": "ipython3",
   "version": "3.10.6"
  }
 },
 "nbformat": 4,
 "nbformat_minor": 5
}
