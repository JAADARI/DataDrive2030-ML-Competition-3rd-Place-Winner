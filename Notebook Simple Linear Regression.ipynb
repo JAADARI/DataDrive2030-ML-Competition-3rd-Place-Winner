{
 "cells": [
  {
   "cell_type": "code",
   "execution_count": 1078,
   "metadata": {
    "colab": {
     "base_uri": "https://localhost:8080/"
    },
    "id": "jRcr_Oae06n5",
    "outputId": "92fba62a-560e-436f-ef8d-91821f5f4bcd"
   },
   "outputs": [],
   "source": [
    "# Install eli5, you can use any other model Interpretability libraries\n",
    "!pip install eli5 -q"
   ]
  },
  {
   "cell_type": "code",
   "execution_count": 44,
   "metadata": {
    "execution": {
     "iopub.execute_input": "2023-04-25T22:19:55.642092Z",
     "iopub.status.busy": "2023-04-25T22:19:55.641654Z",
     "iopub.status.idle": "2023-04-25T22:20:05.935415Z",
     "shell.execute_reply": "2023-04-25T22:20:05.934184Z",
     "shell.execute_reply.started": "2023-04-25T22:19:55.642044Z"
    },
    "id": "YBArGtJwFzwO"
   },
   "outputs": [],
   "source": [
    "# Import libraries\n",
    "import pandas as pd\n",
    "import numpy as np\n",
    "from sklearn.linear_model import LinearRegression\n",
    "from sklearn.metrics import mean_squared_error\n",
    "from sklearn.model_selection import train_test_split\n",
    "import eli5\n",
    "import warnings\n",
    "warnings.filterwarnings('ignore')\n",
    "pd.set_option('display.max_columns', None)\n"
   ]
  },
  {
   "cell_type": "code",
   "execution_count": 45,
   "metadata": {
    "execution": {
     "iopub.execute_input": "2023-04-25T22:20:05.939100Z",
     "iopub.status.busy": "2023-04-25T22:20:05.937993Z",
     "iopub.status.idle": "2023-04-25T22:20:07.645595Z",
     "shell.execute_reply": "2023-04-25T22:20:07.644641Z",
     "shell.execute_reply.started": "2023-04-25T22:20:05.939048Z"
    },
    "id": "A1Nlsw9lGHTB"
   },
   "outputs": [],
   "source": [
    "train = pd.read_csv('/home/fjaadari/Downloads/Train (4).csv')\n",
    "test = pd.read_csv('/home/fjaadari/Downloads/Test (4).csv')\n",
    "ss = pd.read_csv('/home/fjaadari/Downloads/SampleSubmission (5).csv')\n"
   ]
  },
  {
   "cell_type": "markdown",
   "metadata": {},
   "source": [
    "## Identifying and Dropping Columns with High Percentage of Missing Values"
   ]
  },
  {
   "cell_type": "code",
   "execution_count": 46,
   "metadata": {
    "execution": {
     "iopub.execute_input": "2023-04-25T22:20:07.648126Z",
     "iopub.status.busy": "2023-04-25T22:20:07.647041Z",
     "iopub.status.idle": "2023-04-25T22:20:07.873962Z",
     "shell.execute_reply": "2023-04-25T22:20:07.872745Z",
     "shell.execute_reply.started": "2023-04-25T22:20:07.648086Z"
    }
   },
   "outputs": [
    {
     "data": {
      "text/html": [
       "<div>\n",
       "<style scoped>\n",
       "    .dataframe tbody tr th:only-of-type {\n",
       "        vertical-align: middle;\n",
       "    }\n",
       "\n",
       "    .dataframe tbody tr th {\n",
       "        vertical-align: top;\n",
       "    }\n",
       "\n",
       "    .dataframe thead th {\n",
       "        text-align: right;\n",
       "    }\n",
       "</style>\n",
       "<table border=\"1\" class=\"dataframe\">\n",
       "  <thead>\n",
       "    <tr style=\"text-align: right;\">\n",
       "      <th></th>\n",
       "      <th>column_name</th>\n",
       "      <th>percent_missing</th>\n",
       "    </tr>\n",
       "  </thead>\n",
       "  <tbody>\n",
       "    <tr>\n",
       "      <th>child_id</th>\n",
       "      <td>child_id</td>\n",
       "      <td>0.000000</td>\n",
       "    </tr>\n",
       "    <tr>\n",
       "      <th>pre_covid</th>\n",
       "      <td>pre_covid</td>\n",
       "      <td>0.000000</td>\n",
       "    </tr>\n",
       "    <tr>\n",
       "      <th>sef_ind</th>\n",
       "      <td>sef_ind</td>\n",
       "      <td>0.000000</td>\n",
       "    </tr>\n",
       "    <tr>\n",
       "      <th>language_assessment</th>\n",
       "      <td>language_assessment</td>\n",
       "      <td>0.000000</td>\n",
       "    </tr>\n",
       "    <tr>\n",
       "      <th>hle_ind</th>\n",
       "      <td>hle_ind</td>\n",
       "      <td>0.000000</td>\n",
       "    </tr>\n",
       "    <tr>\n",
       "      <th>...</th>\n",
       "      <td>...</td>\n",
       "      <td>...</td>\n",
       "    </tr>\n",
       "    <tr>\n",
       "      <th>pra_class_space_small</th>\n",
       "      <td>pra_class_space_small</td>\n",
       "      <td>99.895166</td>\n",
       "    </tr>\n",
       "    <tr>\n",
       "      <th>pri_founderother</th>\n",
       "      <td>pri_founderother</td>\n",
       "      <td>99.906814</td>\n",
       "    </tr>\n",
       "    <tr>\n",
       "      <th>pri_clinic_travelother</th>\n",
       "      <td>pri_clinic_travelother</td>\n",
       "      <td>99.941759</td>\n",
       "    </tr>\n",
       "    <tr>\n",
       "      <th>pri_locationother</th>\n",
       "      <td>pri_locationother</td>\n",
       "      <td>99.941759</td>\n",
       "    </tr>\n",
       "    <tr>\n",
       "      <th>other_practitioner</th>\n",
       "      <td>other_practitioner</td>\n",
       "      <td>99.953407</td>\n",
       "    </tr>\n",
       "  </tbody>\n",
       "</table>\n",
       "<p>679 rows × 2 columns</p>\n",
       "</div>"
      ],
      "text/plain": [
       "                                   column_name  percent_missing\n",
       "child_id                              child_id         0.000000\n",
       "pre_covid                            pre_covid         0.000000\n",
       "sef_ind                                sef_ind         0.000000\n",
       "language_assessment        language_assessment         0.000000\n",
       "hle_ind                                hle_ind         0.000000\n",
       "...                                        ...              ...\n",
       "pra_class_space_small    pra_class_space_small        99.895166\n",
       "pri_founderother              pri_founderother        99.906814\n",
       "pri_clinic_travelother  pri_clinic_travelother        99.941759\n",
       "pri_locationother            pri_locationother        99.941759\n",
       "other_practitioner          other_practitioner        99.953407\n",
       "\n",
       "[679 rows x 2 columns]"
      ]
     },
     "execution_count": 46,
     "metadata": {},
     "output_type": "execute_result"
    }
   ],
   "source": [
    "percent_missing = train.isnull().sum() * 100/ len(train)\n",
    "missing_value_train = pd.DataFrame({'column_name': train.columns,\n",
    "                                  'percent_missing': percent_missing})\n",
    "columns_to_drop = list(percent_missing[percent_missing >= 39].index)\n",
    "missing_value_train.sort_values(by=\"percent_missing\",ascending=True)\n"
   ]
  },
  {
   "cell_type": "code",
   "execution_count": 4,
   "metadata": {
    "execution": {
     "iopub.execute_input": "2023-04-25T22:20:07.876747Z",
     "iopub.status.busy": "2023-04-25T22:20:07.876357Z",
     "iopub.status.idle": "2023-04-25T22:20:07.884039Z",
     "shell.execute_reply": "2023-04-25T22:20:07.882804Z",
     "shell.execute_reply.started": "2023-04-25T22:20:07.876711Z"
    }
   },
   "outputs": [
    {
     "data": {
      "text/plain": [
       "609"
      ]
     },
     "execution_count": 4,
     "metadata": {},
     "output_type": "execute_result"
    }
   ],
   "source": [
    "len(columns_to_drop)"
   ]
  },
  {
   "cell_type": "markdown",
   "metadata": {},
   "source": [
    "## return back relevant features"
   ]
  },
  {
   "cell_type": "code",
   "execution_count": 47,
   "metadata": {
    "execution": {
     "iopub.execute_input": "2023-04-25T22:20:07.886233Z",
     "iopub.status.busy": "2023-04-25T22:20:07.885668Z",
     "iopub.status.idle": "2023-04-25T22:20:07.895466Z",
     "shell.execute_reply": "2023-04-25T22:20:07.893948Z",
     "shell.execute_reply.started": "2023-04-25T22:20:07.886184Z"
    }
   },
   "outputs": [],
   "source": [
    "columns_to_drop.remove(\"child_attends\")\n",
    "columns_to_drop.remove(\"child_attendance\")\n",
    "columns_to_drop.remove(\"pra_salary\")\n",
    "\n",
    "\n",
    "\n",
    "\n",
    "\n",
    "\n"
   ]
  },
  {
   "cell_type": "code",
   "execution_count": 48,
   "metadata": {
    "execution": {
     "iopub.execute_input": "2023-04-25T22:20:07.897236Z",
     "iopub.status.busy": "2023-04-25T22:20:07.896900Z",
     "iopub.status.idle": "2023-04-25T22:20:07.957842Z",
     "shell.execute_reply": "2023-04-25T22:20:07.956636Z",
     "shell.execute_reply.started": "2023-04-25T22:20:07.897193Z"
    }
   },
   "outputs": [
    {
     "data": {
      "text/plain": [
       "((8585, 73), (3680, 72))"
      ]
     },
     "execution_count": 48,
     "metadata": {},
     "output_type": "execute_result"
    }
   ],
   "source": [
    "train = train.drop(columns = columns_to_drop)\n",
    "test = test.drop(columns = columns_to_drop )\n",
    "train.shape, test.shape\n",
    "\n"
   ]
  },
  {
   "cell_type": "code",
   "execution_count": 49,
   "metadata": {
    "execution": {
     "iopub.execute_input": "2023-04-25T22:20:07.960200Z",
     "iopub.status.busy": "2023-04-25T22:20:07.959323Z",
     "iopub.status.idle": "2023-04-25T22:20:08.089823Z",
     "shell.execute_reply": "2023-04-25T22:20:08.088583Z",
     "shell.execute_reply.started": "2023-04-25T22:20:07.960163Z"
    }
   },
   "outputs": [],
   "source": [
    "data = pd.concat([train, test]).reset_index(drop=True)\n"
   ]
  },
  {
   "cell_type": "markdown",
   "metadata": {},
   "source": [
    "## Feature Engineering Based of EDA "
   ]
  },
  {
   "cell_type": "code",
   "execution_count": 51,
   "metadata": {
    "execution": {
     "iopub.execute_input": "2023-04-25T22:20:08.092042Z",
     "iopub.status.busy": "2023-04-25T22:20:08.091581Z",
     "iopub.status.idle": "2023-04-25T22:20:08.137109Z",
     "shell.execute_reply": "2023-04-25T22:20:08.136152Z",
     "shell.execute_reply.started": "2023-04-25T22:20:08.091994Z"
    }
   },
   "outputs": [],
   "source": [
    "data['child_dob'] = pd.to_datetime(data['child_dob'])\n",
    "data['child_date'] = pd.to_datetime(data['child_date'])\n",
    "data['diffday'] = (data['child_date'] - data['child_dob']).dt.days\n",
    "data.loc[data[\"pri_fees_amount\"] > 750, \"child_grant\"] = \"No\"\n",
    "data.loc[data[\"language_match\"] == 1.0, \"child_grant\"] = \"Yes\"\n",
    "data.loc[data[\"pri_fees\"] == \"No\", \"child_grant\"] = \"Yes\"\n",
    "data.loc[data[\"language_child\"] == \"English\", \"child_grant\"] = \"No\"\n",
    "data.loc[data[\"teacher_social_total\"] == 24, \"child_grant\"] = \"Yes\"\n",
    "data.loc[data[\"teacher_social_total\"] == 0, \"child_grant\"] = \"No\"\n",
    "data['child_observe_total']=data[\"child_observe_total\"].fillna(0)\n",
    "\n",
    "class_scores = {'Almost never': 0, 'Sometimes': 1, 'Often': 2,'Almost always':3}\n",
    "\n",
    "# create a function to calculate the total score for each row\n",
    "def calculate_total_score(row):\n",
    "    total_score = 0\n",
    "    for col in ['child_observe_attentive', 'child_observe_concentrated', 'child_observe_diligent','child_observe_interested']:\n",
    "        class_score = class_scores.get(row[col], 0)\n",
    "        total_score += class_score\n",
    "    return total_score\n",
    "\n",
    "# apply the function to the three columns and assign the result to a new column\n",
    "data['child_observe_total'] = data.apply(calculate_total_score, axis=1)\n",
    "\n",
    "\n",
    "\n",
    "\n",
    "\n",
    "\n",
    "\n",
    "\n"
   ]
  },
  {
   "cell_type": "code",
   "execution_count": 52,
   "metadata": {},
   "outputs": [],
   "source": [
    "data = data.fillna(data.mode().iloc[0])\n",
    "data=data.fillna(0)"
   ]
  },
  {
   "cell_type": "code",
   "execution_count": 53,
   "metadata": {
    "execution": {
     "iopub.execute_input": "2023-04-25T22:20:38.881964Z",
     "iopub.status.busy": "2023-04-25T22:20:38.881497Z",
     "iopub.status.idle": "2023-04-25T22:20:41.706871Z",
     "shell.execute_reply": "2023-04-25T22:20:41.705309Z",
     "shell.execute_reply.started": "2023-04-25T22:20:38.881926Z"
    }
   },
   "outputs": [],
   "source": [
    "data[\"id_enumerator\"] = data[\"id_enumerator\"].astype(str)\n",
    "data[\"id_facility\"] = data[\"id_facility\"].astype(str)\n",
    "\n",
    "\n",
    "\n"
   ]
  },
  {
   "cell_type": "code",
   "execution_count": 54,
   "metadata": {
    "execution": {
     "iopub.execute_input": "2023-04-25T22:20:51.782731Z",
     "iopub.status.busy": "2023-04-25T22:20:51.782279Z",
     "iopub.status.idle": "2023-04-25T22:21:10.724644Z",
     "shell.execute_reply": "2023-04-25T22:21:10.723417Z",
     "shell.execute_reply.started": "2023-04-25T22:20:51.782688Z"
    }
   },
   "outputs": [],
   "source": [
    "from sklearn.preprocessing import OneHotEncoder\n",
    "df=data.copy()\n",
    "# create a sample dataframe with categorical variables\n",
    "# loop over each categorical column in the dataframe\n",
    "for col in df.select_dtypes(include=['object']):\n",
    "    # check if the column has less than 150 unique values\n",
    "    if len(df[col].unique()) < 300:\n",
    "        \n",
    "        encoder = OneHotEncoder(categories='auto', drop='first')\n",
    "        one_hot = encoder.fit_transform(data[[col]])\n",
    "        \n",
    "        # create new column names with the prefix\n",
    "        prefix = col + '_'\n",
    "        new_cols = [prefix + str(i) for i in range(one_hot.shape[1])]\n",
    "        \n",
    "        # append the encoded columns to the original dataframe\n",
    "        df_one_hot = pd.DataFrame(one_hot.toarray(), columns=new_cols)\n",
    "        data = pd.concat([data, df_one_hot], axis=1)\n",
    "        \n",
    "        # drop the original column from the dataframe\n",
    "        #data = data.drop(col, axis=1)\n"
   ]
  },
  {
   "cell_type": "markdown",
   "metadata": {},
   "source": [
    "## dropping categorical columns"
   ]
  },
  {
   "cell_type": "code",
   "execution_count": 55,
   "metadata": {
    "execution": {
     "iopub.execute_input": "2023-04-25T22:21:10.727526Z",
     "iopub.status.busy": "2023-04-25T22:21:10.727051Z",
     "iopub.status.idle": "2023-04-25T22:21:10.917770Z",
     "shell.execute_reply": "2023-04-25T22:21:10.916010Z",
     "shell.execute_reply.started": "2023-04-25T22:21:10.727475Z"
    }
   },
   "outputs": [],
   "source": [
    "cat_cols = data.select_dtypes(include=['object', 'category']).columns\n",
    "\n",
    "# drop categorical columns\n",
    "data = data.drop(cat_cols, axis=1)\n"
   ]
  },
  {
   "cell_type": "markdown",
   "metadata": {},
   "source": [
    "## StanderScaler"
   ]
  },
  {
   "cell_type": "code",
   "execution_count": 57,
   "metadata": {
    "execution": {
     "iopub.execute_input": "2023-04-25T22:21:10.919664Z",
     "iopub.status.busy": "2023-04-25T22:21:10.919255Z",
     "iopub.status.idle": "2023-04-25T22:21:11.710155Z",
     "shell.execute_reply": "2023-04-25T22:21:11.709116Z",
     "shell.execute_reply.started": "2023-04-25T22:21:10.919598Z"
    }
   },
   "outputs": [],
   "source": [
    "from sklearn.preprocessing import MinMaxScaler\n",
    "from sklearn.preprocessing import StandardScaler\n",
    "\n",
    "target_column = 'target'\n",
    "\n",
    "# identify the numerical columns\n",
    "numerical_columns = data.select_dtypes(include=[\"number\"]).columns\n",
    "\n",
    "# remove the target column from the list of numerical columns\n",
    "numerical_columns = numerical_columns.drop(target_column)\n",
    "\n",
    "# create a StandardScaler object\n",
    "scaler = StandardScaler()\n",
    "\n",
    "# fit the scaler to the numerical columns\n",
    "scaler.fit(data[numerical_columns])\n",
    "\n",
    "# transform the numerical columns using the scaler\n",
    "scaled_features = scaler.transform(data[numerical_columns])\n",
    "\n",
    "# convert the scaled features array to a Pandas dataframe\n",
    "scaled_features_df = pd.DataFrame(scaled_features, columns=numerical_columns)\n",
    "\n",
    "# concatenate the target column with the scaled features dataframe\n",
    "data = pd.concat([data[target_column], data[numerical_columns]], axis=1)\n"
   ]
  },
  {
   "cell_type": "code",
   "execution_count": 56,
   "metadata": {
    "execution": {
     "iopub.execute_input": "2023-04-25T22:21:11.713499Z",
     "iopub.status.busy": "2023-04-25T22:21:11.712475Z",
     "iopub.status.idle": "2023-04-25T22:21:11.866430Z",
     "shell.execute_reply": "2023-04-25T22:21:11.865049Z",
     "shell.execute_reply.started": "2023-04-25T22:21:11.713458Z"
    }
   },
   "outputs": [],
   "source": [
    "train = data[:train.shape[0]].reset_index(drop=True)\n",
    "test = data[train.shape[0]:].reset_index(drop=True)\n"
   ]
  },
  {
   "cell_type": "code",
   "execution_count": 57,
   "metadata": {
    "execution": {
     "iopub.execute_input": "2023-04-25T22:21:11.868490Z",
     "iopub.status.busy": "2023-04-25T22:21:11.868118Z",
     "iopub.status.idle": "2023-04-25T22:21:12.021096Z",
     "shell.execute_reply": "2023-04-25T22:21:12.019780Z",
     "shell.execute_reply.started": "2023-04-25T22:21:11.868454Z"
    }
   },
   "outputs": [],
   "source": [
    "pd.set_option('display.max_columns', None)\n",
    "numerical_columns = data.select_dtypes(include=[\"number\"]).columns\n",
    "\n",
    "l = numerical_columns.drop(\"target\")\n"
   ]
  },
  {
   "cell_type": "code",
   "execution_count": 58,
   "metadata": {
    "execution": {
     "iopub.execute_input": "2023-04-25T22:21:12.023355Z",
     "iopub.status.busy": "2023-04-25T22:21:12.022986Z",
     "iopub.status.idle": "2023-04-25T22:21:12.028393Z",
     "shell.execute_reply": "2023-04-25T22:21:12.027111Z",
     "shell.execute_reply.started": "2023-04-25T22:21:12.023321Z"
    }
   },
   "outputs": [],
   "source": [
    "l=l.to_list()\n"
   ]
  },
  {
   "cell_type": "code",
   "execution_count": 59,
   "metadata": {
    "execution": {
     "iopub.execute_input": "2023-04-25T22:21:12.030903Z",
     "iopub.status.busy": "2023-04-25T22:21:12.030157Z",
     "iopub.status.idle": "2023-04-25T22:21:12.081970Z",
     "shell.execute_reply": "2023-04-25T22:21:12.080709Z",
     "shell.execute_reply.started": "2023-04-25T22:21:12.030853Z"
    }
   },
   "outputs": [],
   "source": [
    "\n",
    "y = train.target\n",
    "\n",
    "X = train[l]\n"
   ]
  },
  {
   "cell_type": "markdown",
   "metadata": {},
   "source": [
    "## Testing with LinearRegression after choosing best random_estate 254"
   ]
  },
  {
   "cell_type": "code",
   "execution_count": 60,
   "metadata": {
    "colab": {
     "base_uri": "https://localhost:8080/"
    },
    "execution": {
     "iopub.execute_input": "2023-04-25T22:21:18.112360Z",
     "iopub.status.busy": "2023-04-25T22:21:18.111193Z",
     "iopub.status.idle": "2023-04-25T22:21:20.139248Z",
     "shell.execute_reply": "2023-04-25T22:21:20.137969Z",
     "shell.execute_reply.started": "2023-04-25T22:21:18.112306Z"
    },
    "id": "p1ucsGu6xxP0",
    "outputId": "b2383268-38a9-40e2-a027-e7c04967f65e"
   },
   "outputs": [
    {
     "data": {
      "text/plain": [
       "9.235523093735928"
      ]
     },
     "execution_count": 60,
     "metadata": {},
     "output_type": "execute_result"
    }
   ],
   "source": [
    "\n",
    "X=X.fillna(0)\n",
    "# Split data into training and test\n",
    "X_train, X_test, y_train, y_test = train_test_split(X, y, test_size = 0.09, random_state =1234)\n",
    "# Train a model\n",
    "model = LinearRegression()\n",
    "model.fit(X_train, y_train)\n",
    "\n",
    "# Make predictions\n",
    "y_pred = model.predict(X_test)\n",
    "\n",
    "# Check score\n",
    "mean_squared_error(y_test, y_pred, squared=False)"
   ]
  },
  {
   "cell_type": "code",
   "execution_count": 20,
   "metadata": {},
   "outputs": [
    {
     "data": {
      "text/plain": [
       "8.83818968622995"
      ]
     },
     "execution_count": 20,
     "metadata": {},
     "output_type": "execute_result"
    }
   ],
   "source": [
    "model = LinearRegression()\n",
    "model.fit(X, y)\n",
    "\n",
    "# Make predictions\n",
    "y_pred = model.predict(X_test)\n",
    "\n",
    "# Check score\n",
    "mean_squared_error(y_test, y_pred, squared=False)"
   ]
  },
  {
   "cell_type": "code",
   "execution_count": 65,
   "metadata": {
    "colab": {
     "base_uri": "https://localhost:8080/"
    },
    "execution": {
     "iopub.execute_input": "2023-04-24T01:33:56.664389Z",
     "iopub.status.busy": "2023-04-24T01:33:56.663864Z",
     "iopub.status.idle": "2023-04-24T01:33:57.745948Z",
     "shell.execute_reply": "2023-04-24T01:33:57.744610Z",
     "shell.execute_reply.started": "2023-04-24T01:33:56.664336Z"
    },
    "id": "P2uKohld5zJX",
    "outputId": "b357c967-8ad6-40f7-fdab-ee2151e738f1"
   },
   "outputs": [],
   "source": [
    "# Make predictions on the test \n",
    "set\n",
    "preds = model.predict(test[l].fillna(0))\n",
    "#catboostpreds = best_cat.predict(test[l].fillna(0))\n"
   ]
  },
  {
   "cell_type": "code",
   "execution_count": 66,
   "metadata": {
    "id": "947Ed1NQ7UuL"
   },
   "outputs": [
    {
     "name": "stderr",
     "output_type": "stream",
     "text": [
      "100%|███████████████████████████████████████| 3680/3680 [00:54<00:00, 67.02it/s]\n"
     ]
    }
   ],
   "source": [
    "# Get the top five features for each predictions\n",
    "from tqdm import tqdm\n",
    "\n",
    "top_predictors = []\n",
    "\n",
    "for i in tqdm(range(test.shape[0])):\n",
    "  predictors = eli5.explain_prediction_df(estimator=model, doc=test[l].fillna(0).iloc[i], top = 15)\n",
    "  top_predictors.append(predictors.feature.tolist())"
   ]
  },
  {
   "cell_type": "code",
   "execution_count": 67,
   "metadata": {
    "colab": {
     "base_uri": "https://localhost:8080/",
     "height": 270
    },
    "id": "x3ZD4FRF9Qe8",
    "outputId": "f0ae060c-7494-46a1-fe25-ccf223838b52"
   },
   "outputs": [
    {
     "data": {
      "text/html": [
       "<div>\n",
       "<style scoped>\n",
       "    .dataframe tbody tr th:only-of-type {\n",
       "        vertical-align: middle;\n",
       "    }\n",
       "\n",
       "    .dataframe tbody tr th {\n",
       "        vertical-align: top;\n",
       "    }\n",
       "\n",
       "    .dataframe thead th {\n",
       "        text-align: right;\n",
       "    }\n",
       "</style>\n",
       "<table border=\"1\" class=\"dataframe\">\n",
       "  <thead>\n",
       "    <tr style=\"text-align: right;\">\n",
       "      <th></th>\n",
       "      <th>child_id</th>\n",
       "      <th>target</th>\n",
       "      <th>feature_1</th>\n",
       "      <th>feature_2</th>\n",
       "      <th>feature_3</th>\n",
       "      <th>feature_4</th>\n",
       "      <th>feature_5</th>\n",
       "      <th>feature_6</th>\n",
       "      <th>feature_7</th>\n",
       "      <th>feature_8</th>\n",
       "      <th>feature_9</th>\n",
       "      <th>feature_10</th>\n",
       "      <th>feature_11</th>\n",
       "      <th>feature_12</th>\n",
       "      <th>feature_13</th>\n",
       "      <th>feature_14</th>\n",
       "      <th>feature_15</th>\n",
       "    </tr>\n",
       "  </thead>\n",
       "  <tbody>\n",
       "    <tr>\n",
       "      <th>0</th>\n",
       "      <td>ID_0I0999N6S</td>\n",
       "      <td>58.226456</td>\n",
       "      <td>&lt;BIAS&gt;</td>\n",
       "      <td>data_year</td>\n",
       "      <td>child_age</td>\n",
       "      <td>teacher_emotional_total</td>\n",
       "      <td>child_attendance</td>\n",
       "      <td>latitude</td>\n",
       "      <td>teacher_social_total</td>\n",
       "      <td>language_assessment_2</td>\n",
       "      <td>pri_fees_amount</td>\n",
       "      <td>id_ward</td>\n",
       "      <td>id_enumerator_31</td>\n",
       "      <td>language_match</td>\n",
       "      <td>id_dc_n</td>\n",
       "      <td>child_observe_concentrated_1</td>\n",
       "      <td>child_observe_total</td>\n",
       "    </tr>\n",
       "    <tr>\n",
       "      <th>1</th>\n",
       "      <td>ID_GQ6ONJ4FP</td>\n",
       "      <td>47.827996</td>\n",
       "      <td>&lt;BIAS&gt;</td>\n",
       "      <td>data_year</td>\n",
       "      <td>child_age</td>\n",
       "      <td>teacher_emotional_total</td>\n",
       "      <td>prov_best_2</td>\n",
       "      <td>child_attendance</td>\n",
       "      <td>latitude</td>\n",
       "      <td>teacher_social_total</td>\n",
       "      <td>pri_fees_amount</td>\n",
       "      <td>longitude</td>\n",
       "      <td>language_match</td>\n",
       "      <td>id_enumerator_186</td>\n",
       "      <td>id_prov_2</td>\n",
       "      <td>child_observe_diligent_1</td>\n",
       "      <td>child_observe_total</td>\n",
       "    </tr>\n",
       "    <tr>\n",
       "      <th>2</th>\n",
       "      <td>ID_YZ76CVRW3</td>\n",
       "      <td>49.452134</td>\n",
       "      <td>&lt;BIAS&gt;</td>\n",
       "      <td>data_year</td>\n",
       "      <td>child_age</td>\n",
       "      <td>teacher_emotional_total</td>\n",
       "      <td>id_dc_best_24</td>\n",
       "      <td>dc_best_12</td>\n",
       "      <td>pri_fees_amount</td>\n",
       "      <td>language_match</td>\n",
       "      <td>id_prov_4</td>\n",
       "      <td>id_dc_n</td>\n",
       "      <td>child_observe_interested_1</td>\n",
       "      <td>child_observe_attentive_1</td>\n",
       "      <td>child_observe_concentrated_1</td>\n",
       "      <td>child_observe_diligent_1</td>\n",
       "      <td>child_observe_total</td>\n",
       "    </tr>\n",
       "    <tr>\n",
       "      <th>3</th>\n",
       "      <td>ID_BNINCRXH8</td>\n",
       "      <td>68.639611</td>\n",
       "      <td>&lt;BIAS&gt;</td>\n",
       "      <td>data_year</td>\n",
       "      <td>child_age</td>\n",
       "      <td>dc_best_7</td>\n",
       "      <td>id_dc_best_0</td>\n",
       "      <td>teacher_emotional_total</td>\n",
       "      <td>id_enumerator_184</td>\n",
       "      <td>id_mn_n</td>\n",
       "      <td>child_attendance</td>\n",
       "      <td>prov_best_0</td>\n",
       "      <td>language_match</td>\n",
       "      <td>id_prov_7</td>\n",
       "      <td>id_dc_n</td>\n",
       "      <td>child_observe_interested_1</td>\n",
       "      <td>child_observe_total</td>\n",
       "    </tr>\n",
       "    <tr>\n",
       "      <th>4</th>\n",
       "      <td>ID_1U7GDTLRI</td>\n",
       "      <td>46.460987</td>\n",
       "      <td>&lt;BIAS&gt;</td>\n",
       "      <td>data_year</td>\n",
       "      <td>child_age</td>\n",
       "      <td>teacher_emotional_total</td>\n",
       "      <td>latitude</td>\n",
       "      <td>child_attendance</td>\n",
       "      <td>gps_ind_0</td>\n",
       "      <td>id_prov_n</td>\n",
       "      <td>id_dc_n</td>\n",
       "      <td>language_match</td>\n",
       "      <td>id_prov_7</td>\n",
       "      <td>child_observe_attentive_1</td>\n",
       "      <td>child_observe_concentrated_1</td>\n",
       "      <td>child_observe_diligent_1</td>\n",
       "      <td>child_observe_total</td>\n",
       "    </tr>\n",
       "  </tbody>\n",
       "</table>\n",
       "</div>"
      ],
      "text/plain": [
       "       child_id     target feature_1  feature_2  feature_3  \\\n",
       "0  ID_0I0999N6S  58.226456    <BIAS>  data_year  child_age   \n",
       "1  ID_GQ6ONJ4FP  47.827996    <BIAS>  data_year  child_age   \n",
       "2  ID_YZ76CVRW3  49.452134    <BIAS>  data_year  child_age   \n",
       "3  ID_BNINCRXH8  68.639611    <BIAS>  data_year  child_age   \n",
       "4  ID_1U7GDTLRI  46.460987    <BIAS>  data_year  child_age   \n",
       "\n",
       "                 feature_4         feature_5                feature_6  \\\n",
       "0  teacher_emotional_total  child_attendance                 latitude   \n",
       "1  teacher_emotional_total       prov_best_2         child_attendance   \n",
       "2  teacher_emotional_total     id_dc_best_24               dc_best_12   \n",
       "3                dc_best_7      id_dc_best_0  teacher_emotional_total   \n",
       "4  teacher_emotional_total          latitude         child_attendance   \n",
       "\n",
       "              feature_7              feature_8         feature_9  \\\n",
       "0  teacher_social_total  language_assessment_2   pri_fees_amount   \n",
       "1              latitude   teacher_social_total   pri_fees_amount   \n",
       "2       pri_fees_amount         language_match         id_prov_4   \n",
       "3     id_enumerator_184                id_mn_n  child_attendance   \n",
       "4             gps_ind_0              id_prov_n           id_dc_n   \n",
       "\n",
       "       feature_10                  feature_11                 feature_12  \\\n",
       "0         id_ward            id_enumerator_31             language_match   \n",
       "1       longitude              language_match          id_enumerator_186   \n",
       "2         id_dc_n  child_observe_interested_1  child_observe_attentive_1   \n",
       "3     prov_best_0              language_match                  id_prov_7   \n",
       "4  language_match                   id_prov_7  child_observe_attentive_1   \n",
       "\n",
       "                     feature_13                    feature_14  \\\n",
       "0                       id_dc_n  child_observe_concentrated_1   \n",
       "1                     id_prov_2      child_observe_diligent_1   \n",
       "2  child_observe_concentrated_1      child_observe_diligent_1   \n",
       "3                       id_dc_n    child_observe_interested_1   \n",
       "4  child_observe_concentrated_1      child_observe_diligent_1   \n",
       "\n",
       "            feature_15  \n",
       "0  child_observe_total  \n",
       "1  child_observe_total  \n",
       "2  child_observe_total  \n",
       "3  child_observe_total  \n",
       "4  child_observe_total  "
      ]
     },
     "execution_count": 67,
     "metadata": {},
     "output_type": "execute_result"
    }
   ],
   "source": [
    "# Submission file preparation\n",
    "test = pd.read_csv('/home/fjaadari/Downloads/Test (4).csv')\n",
    "\n",
    "predictors = pd.DataFrame(top_predictors, columns = ['feature_' + str(i) for i in range(1,16)])\n",
    "predictors['target'] = preds\n",
    "predictors['child_id'] = test.child_id\n",
    "predictors = predictors[ss.columns.tolist()]\n",
    "predictors.head()"
   ]
  },
  {
   "cell_type": "markdown",
   "metadata": {},
   "source": [
    "## Getting the Final result of LinearReg after Testing Multiple Seed Values and Test size"
   ]
  },
  {
   "cell_type": "code",
   "execution_count": 68,
   "metadata": {
    "id": "6hQO5oQ49Qb8"
   },
   "outputs": [],
   "source": [
    "# Create csv to upload to Zindi for scoring\n",
    "predictors.to_csv('LinearReg.csv', index = False)"
   ]
  }
 ],
 "metadata": {
  "colab": {
   "provenance": []
  },
  "kernelspec": {
   "display_name": "Python 3 (ipykernel)",
   "language": "python",
   "name": "python3"
  },
  "language_info": {
   "codemirror_mode": {
    "name": "ipython",
    "version": 3
   },
   "file_extension": ".py",
   "mimetype": "text/x-python",
   "name": "python",
   "nbconvert_exporter": "python",
   "pygments_lexer": "ipython3",
   "version": "3.10.6"
  }
 },
 "nbformat": 4,
 "nbformat_minor": 4
}
